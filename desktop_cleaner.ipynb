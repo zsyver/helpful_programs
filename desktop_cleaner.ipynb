{
  "nbformat": 4,
  "nbformat_minor": 0,
  "metadata": {
    "colab": {
      "name": "desktop_cleaner.ipynb",
      "provenance": [],
      "authorship_tag": "ABX9TyPNQTVMnc3XuChwXqHejEb1",
      "include_colab_link": true
    },
    "kernelspec": {
      "name": "python3",
      "display_name": "Python 3"
    },
    "language_info": {
      "name": "python"
    }
  },
  "cells": [
    {
      "cell_type": "markdown",
      "metadata": {
        "id": "view-in-github",
        "colab_type": "text"
      },
      "source": [
        "<a href=\"https://colab.research.google.com/github/zsyver/helpful_programs/blob/main/desktop_cleaner.ipynb\" target=\"_parent\"><img src=\"https://colab.research.google.com/assets/colab-badge.svg\" alt=\"Open In Colab\"/></a>"
      ]
    },
    {
      "cell_type": "markdown",
      "source": [
        "This is a simple program that I built today to move unwanted files on the desktop into other areas. Simply run the program and BOOM all the clutter disappears. \n",
        "\n",
        "I thought about naming the program \"abra cadabra\" but Amazon already took that name, so I settled with \"desktop_cleaner\". Definitely open to suggestions here.\n",
        "\n",
        "Enjoy!"
      ],
      "metadata": {
        "id": "hxzudDNwL2JQ"
      }
    },
    {
      "cell_type": "markdown",
      "source": [
        "TLDR; Use this program to clean up directories. Just run python3 clean_desktop.py and the files will disappear to the final_destination."
      ],
      "metadata": {
        "id": "a6sYTUhpNMYB"
      }
    },
    {
      "cell_type": "code",
      "source": [
        "\n",
        "import re\n",
        "import os\n",
        "import shutil\n",
        "\n",
        "final_destination = \"FINAL FILEPATH DESTINATION\"\n",
        "directory = \"DIRECTORY TO CLEAN (e.g. /Supercomputer/Superuser/Superduperuser/Supermessydesktop)\"\n",
        "\n",
        "\n",
        "def desktop_cleaner(input_dir):\n",
        "\tfor file in os.listdir(input_dir):\n",
        "\t\tif file.startswith(\"Input common filenames, a regular expression, etc.\"):\n",
        "\t\t\tshutil.move(os.path.abspath(file), final_destination)\n",
        "\treturn\n",
        "\n",
        "desktop_cleaner(directory)\n"
      ],
      "metadata": {
        "id": "ltu2FAXqMTYI"
      },
      "execution_count": null,
      "outputs": []
    }
  ]
}